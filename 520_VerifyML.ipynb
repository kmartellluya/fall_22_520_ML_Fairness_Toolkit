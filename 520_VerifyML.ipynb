{
  "nbformat": 4,
  "nbformat_minor": 0,
  "metadata": {
    "colab": {
      "provenance": [],
      "authorship_tag": "ABX9TyMST9Mghl7NWfG+ITuNNePy",
      "include_colab_link": true
    },
    "kernelspec": {
      "name": "python3",
      "display_name": "Python 3"
    },
    "language_info": {
      "name": "python"
    }
  },
  "cells": [
    {
      "cell_type": "markdown",
      "metadata": {
        "id": "view-in-github",
        "colab_type": "text"
      },
      "source": [
        "<a href=\"https://colab.research.google.com/github/kmartellluya/fall_22_520_ML_Fairness_Toolkit/blob/main/520_VerifyML.ipynb\" target=\"_parent\"><img src=\"https://colab.research.google.com/assets/colab-badge.svg\" alt=\"Open In Colab\"/></a>"
      ]
    },
    {
      "cell_type": "code",
      "execution_count": 1,
      "metadata": {
        "colab": {
          "base_uri": "https://localhost:8080/"
        },
        "id": "HBjqW_gNskNm",
        "outputId": "0dc40fc9-347c-458b-9dd4-01ce65489428"
      },
      "outputs": [
        {
          "output_type": "stream",
          "name": "stdout",
          "text": [
            "Looking in indexes: https://pypi.org/simple, https://us-python.pkg.dev/colab-wheels/public/simple/\n",
            "Requirement already satisfied: verifyml in /usr/local/lib/python3.8/dist-packages (0.0.6)\n",
            "Requirement already satisfied: category-encoders>=2.2.2 in /usr/local/lib/python3.8/dist-packages (from verifyml) (2.5.1.post0)\n",
            "Requirement already satisfied: matplotlib>=3.2.0 in /usr/local/lib/python3.8/dist-packages (from verifyml) (3.2.2)\n",
            "Requirement already satisfied: absl-py>=0.9 in /usr/local/lib/python3.8/dist-packages (from verifyml) (1.3.0)\n",
            "Requirement already satisfied: shap>=0.39.0 in /usr/local/lib/python3.8/dist-packages (from verifyml) (0.41.0)\n",
            "Requirement already satisfied: scikit-learn>=1.0 in /usr/local/lib/python3.8/dist-packages (from verifyml) (1.0.2)\n",
            "Requirement already satisfied: semantic-version>=2.8.0 in /usr/local/lib/python3.8/dist-packages (from verifyml) (2.10.0)\n",
            "Requirement already satisfied: scour>=0.37 in /usr/local/lib/python3.8/dist-packages (from verifyml) (0.38.2)\n",
            "Requirement already satisfied: numba>=0.55.0 in /usr/local/lib/python3.8/dist-packages (from verifyml) (0.56.4)\n",
            "Requirement already satisfied: jinja2>=2.10 in /usr/local/lib/python3.8/dist-packages (from verifyml) (2.11.3)\n",
            "Requirement already satisfied: numpy>=1.2 in /usr/local/lib/python3.8/dist-packages (from verifyml) (1.21.6)\n",
            "Requirement already satisfied: pyparsing<3.0.0a0,>=2.4.2 in /usr/local/lib/python3.8/dist-packages (from verifyml) (2.4.7)\n",
            "Requirement already satisfied: jsonschema>=3.2.0 in /usr/local/lib/python3.8/dist-packages (from verifyml) (4.3.3)\n",
            "Requirement already satisfied: protobuf>=3.18.0 in /usr/local/lib/python3.8/dist-packages (from verifyml) (3.19.6)\n",
            "Requirement already satisfied: patsy>=0.5.1 in /usr/local/lib/python3.8/dist-packages (from category-encoders>=2.2.2->verifyml) (0.5.3)\n",
            "Requirement already satisfied: pandas>=1.0.5 in /usr/local/lib/python3.8/dist-packages (from category-encoders>=2.2.2->verifyml) (1.3.5)\n",
            "Requirement already satisfied: statsmodels>=0.9.0 in /usr/local/lib/python3.8/dist-packages (from category-encoders>=2.2.2->verifyml) (0.12.2)\n",
            "Requirement already satisfied: scipy>=1.0.0 in /usr/local/lib/python3.8/dist-packages (from category-encoders>=2.2.2->verifyml) (1.7.3)\n",
            "Requirement already satisfied: MarkupSafe>=0.23 in /usr/local/lib/python3.8/dist-packages (from jinja2>=2.10->verifyml) (2.0.1)\n",
            "Requirement already satisfied: pyrsistent!=0.17.0,!=0.17.1,!=0.17.2,>=0.14.0 in /usr/local/lib/python3.8/dist-packages (from jsonschema>=3.2.0->verifyml) (0.19.2)\n",
            "Requirement already satisfied: attrs>=17.4.0 in /usr/local/lib/python3.8/dist-packages (from jsonschema>=3.2.0->verifyml) (22.1.0)\n",
            "Requirement already satisfied: importlib-resources>=1.4.0 in /usr/local/lib/python3.8/dist-packages (from jsonschema>=3.2.0->verifyml) (5.10.0)\n",
            "Requirement already satisfied: zipp>=3.1.0 in /usr/local/lib/python3.8/dist-packages (from importlib-resources>=1.4.0->jsonschema>=3.2.0->verifyml) (3.10.0)\n",
            "Requirement already satisfied: cycler>=0.10 in /usr/local/lib/python3.8/dist-packages (from matplotlib>=3.2.0->verifyml) (0.11.0)\n",
            "Requirement already satisfied: kiwisolver>=1.0.1 in /usr/local/lib/python3.8/dist-packages (from matplotlib>=3.2.0->verifyml) (1.4.4)\n",
            "Requirement already satisfied: python-dateutil>=2.1 in /usr/local/lib/python3.8/dist-packages (from matplotlib>=3.2.0->verifyml) (2.8.2)\n",
            "Requirement already satisfied: importlib-metadata in /usr/local/lib/python3.8/dist-packages (from numba>=0.55.0->verifyml) (4.13.0)\n",
            "Requirement already satisfied: setuptools in /usr/local/lib/python3.8/dist-packages (from numba>=0.55.0->verifyml) (57.4.0)\n",
            "Requirement already satisfied: llvmlite<0.40,>=0.39.0dev0 in /usr/local/lib/python3.8/dist-packages (from numba>=0.55.0->verifyml) (0.39.1)\n",
            "Requirement already satisfied: pytz>=2017.3 in /usr/local/lib/python3.8/dist-packages (from pandas>=1.0.5->category-encoders>=2.2.2->verifyml) (2022.6)\n",
            "Requirement already satisfied: six in /usr/local/lib/python3.8/dist-packages (from patsy>=0.5.1->category-encoders>=2.2.2->verifyml) (1.15.0)\n",
            "Requirement already satisfied: joblib>=0.11 in /usr/local/lib/python3.8/dist-packages (from scikit-learn>=1.0->verifyml) (1.2.0)\n",
            "Requirement already satisfied: threadpoolctl>=2.0.0 in /usr/local/lib/python3.8/dist-packages (from scikit-learn>=1.0->verifyml) (3.1.0)\n",
            "Requirement already satisfied: slicer==0.0.7 in /usr/local/lib/python3.8/dist-packages (from shap>=0.39.0->verifyml) (0.0.7)\n",
            "Requirement already satisfied: tqdm>4.25.0 in /usr/local/lib/python3.8/dist-packages (from shap>=0.39.0->verifyml) (4.64.1)\n",
            "Requirement already satisfied: packaging>20.9 in /usr/local/lib/python3.8/dist-packages (from shap>=0.39.0->verifyml) (21.3)\n",
            "Requirement already satisfied: cloudpickle in /usr/local/lib/python3.8/dist-packages (from shap>=0.39.0->verifyml) (1.5.0)\n"
          ]
        }
      ],
      "source": [
        "!pip install verifyml"
      ]
    },
    {
      "cell_type": "code",
      "source": [
        "!pip install tempeh\n",
        "from tempeh.configurations import datasets\n",
        "compas_dataset = datasets[\"compas\"]()"
      ],
      "metadata": {
        "colab": {
          "base_uri": "https://localhost:8080/"
        },
        "id": "85ATWTSutlGY",
        "outputId": "e58faa7c-9d95-4486-e1c9-c3ec10e4f5dc"
      },
      "execution_count": 4,
      "outputs": [
        {
          "output_type": "stream",
          "name": "stdout",
          "text": [
            "Looking in indexes: https://pypi.org/simple, https://us-python.pkg.dev/colab-wheels/public/simple/\n",
            "Collecting tempeh\n",
            "  Downloading tempeh-0.1.12-py3-none-any.whl (39 kB)\n",
            "Requirement already satisfied: pandas in /usr/local/lib/python3.8/dist-packages (from tempeh) (1.3.5)\n",
            "Requirement already satisfied: scikit-learn in /usr/local/lib/python3.8/dist-packages (from tempeh) (1.0.2)\n",
            "Requirement already satisfied: requests in /usr/local/lib/python3.8/dist-packages (from tempeh) (2.23.0)\n",
            "Requirement already satisfied: numpy in /usr/local/lib/python3.8/dist-packages (from tempeh) (1.21.6)\n",
            "Collecting memory-profiler\n",
            "  Downloading memory_profiler-0.61.0-py3-none-any.whl (31 kB)\n",
            "Requirement already satisfied: scipy in /usr/local/lib/python3.8/dist-packages (from tempeh) (1.7.3)\n",
            "Requirement already satisfied: pytest in /usr/local/lib/python3.8/dist-packages (from tempeh) (3.6.4)\n",
            "Requirement already satisfied: shap in /usr/local/lib/python3.8/dist-packages (from tempeh) (0.41.0)\n",
            "Requirement already satisfied: psutil in /usr/local/lib/python3.8/dist-packages (from memory-profiler->tempeh) (5.4.8)\n",
            "Requirement already satisfied: pytz>=2017.3 in /usr/local/lib/python3.8/dist-packages (from pandas->tempeh) (2022.6)\n",
            "Requirement already satisfied: python-dateutil>=2.7.3 in /usr/local/lib/python3.8/dist-packages (from pandas->tempeh) (2.8.2)\n",
            "Requirement already satisfied: six>=1.5 in /usr/local/lib/python3.8/dist-packages (from python-dateutil>=2.7.3->pandas->tempeh) (1.15.0)\n",
            "Requirement already satisfied: py>=1.5.0 in /usr/local/lib/python3.8/dist-packages (from pytest->tempeh) (1.11.0)\n",
            "Requirement already satisfied: setuptools in /usr/local/lib/python3.8/dist-packages (from pytest->tempeh) (57.4.0)\n",
            "Requirement already satisfied: pluggy<0.8,>=0.5 in /usr/local/lib/python3.8/dist-packages (from pytest->tempeh) (0.7.1)\n",
            "Requirement already satisfied: atomicwrites>=1.0 in /usr/local/lib/python3.8/dist-packages (from pytest->tempeh) (1.4.1)\n",
            "Requirement already satisfied: attrs>=17.4.0 in /usr/local/lib/python3.8/dist-packages (from pytest->tempeh) (22.1.0)\n",
            "Requirement already satisfied: more-itertools>=4.0.0 in /usr/local/lib/python3.8/dist-packages (from pytest->tempeh) (9.0.0)\n",
            "Requirement already satisfied: chardet<4,>=3.0.2 in /usr/local/lib/python3.8/dist-packages (from requests->tempeh) (3.0.4)\n",
            "Requirement already satisfied: idna<3,>=2.5 in /usr/local/lib/python3.8/dist-packages (from requests->tempeh) (2.10)\n",
            "Requirement already satisfied: urllib3!=1.25.0,!=1.25.1,<1.26,>=1.21.1 in /usr/local/lib/python3.8/dist-packages (from requests->tempeh) (1.24.3)\n",
            "Requirement already satisfied: certifi>=2017.4.17 in /usr/local/lib/python3.8/dist-packages (from requests->tempeh) (2022.9.24)\n",
            "Requirement already satisfied: threadpoolctl>=2.0.0 in /usr/local/lib/python3.8/dist-packages (from scikit-learn->tempeh) (3.1.0)\n",
            "Requirement already satisfied: joblib>=0.11 in /usr/local/lib/python3.8/dist-packages (from scikit-learn->tempeh) (1.2.0)\n",
            "Requirement already satisfied: cloudpickle in /usr/local/lib/python3.8/dist-packages (from shap->tempeh) (1.5.0)\n",
            "Requirement already satisfied: numba in /usr/local/lib/python3.8/dist-packages (from shap->tempeh) (0.56.4)\n",
            "Requirement already satisfied: packaging>20.9 in /usr/local/lib/python3.8/dist-packages (from shap->tempeh) (21.3)\n",
            "Requirement already satisfied: slicer==0.0.7 in /usr/local/lib/python3.8/dist-packages (from shap->tempeh) (0.0.7)\n",
            "Requirement already satisfied: tqdm>4.25.0 in /usr/local/lib/python3.8/dist-packages (from shap->tempeh) (4.64.1)\n",
            "Requirement already satisfied: pyparsing!=3.0.5,>=2.0.2 in /usr/local/lib/python3.8/dist-packages (from packaging>20.9->shap->tempeh) (2.4.7)\n",
            "Requirement already satisfied: llvmlite<0.40,>=0.39.0dev0 in /usr/local/lib/python3.8/dist-packages (from numba->shap->tempeh) (0.39.1)\n",
            "Requirement already satisfied: importlib-metadata in /usr/local/lib/python3.8/dist-packages (from numba->shap->tempeh) (4.13.0)\n",
            "Requirement already satisfied: zipp>=0.5 in /usr/local/lib/python3.8/dist-packages (from importlib-metadata->numba->shap->tempeh) (3.10.0)\n",
            "Installing collected packages: memory-profiler, tempeh\n",
            "Successfully installed memory-profiler-0.61.0 tempeh-0.1.12\n"
          ]
        }
      ]
    },
    {
      "cell_type": "code",
      "source": [
        "import pandas as pd\n",
        "X_train, X_test = compas_dataset.get_X(format=pd.DataFrame)\n",
        "y_train, y_test = compas_dataset.get_y(format=pd.Series)\n",
        "\n",
        "X_train.loc[0], y_train[0]"
      ],
      "metadata": {
        "colab": {
          "base_uri": "https://localhost:8080/"
        },
        "id": "NH5HC-rrvPDD",
        "outputId": "db13e8d1-96b0-41f6-d2e5-bd7aa9b86ff8"
      },
      "execution_count": 6,
      "outputs": [
        {
          "output_type": "execute_result",
          "data": {
            "text/plain": [
              "(age                        25.000000\n",
              " juv_fel_count               0.000000\n",
              " juv_misd_count             -2.340451\n",
              " juv_other_count             1.000000\n",
              " priors_count              -15.010999\n",
              " age_cat_25 - 45             1.000000\n",
              " age_cat_Greater than 45     0.000000\n",
              " age_cat_Less than 25        0.000000\n",
              " c_charge_degree_F           0.000000\n",
              " c_charge_degree_M           1.000000\n",
              " Name: 0, dtype: float64, 1.0)"
            ]
          },
          "metadata": {},
          "execution_count": 6
        }
      ]
    },
    {
      "cell_type": "code",
      "source": [
        "import verifyml.model_card_toolkit as mctlib\n",
        "\n",
        "# Initialize the Model Card Toolkit with a path to store generate assets\n",
        "mct = mctlib.ModelCardToolkit(output_dir=\"model_card_output\", file_name=\"compas_model_card\")\n",
        "model_card = mct.scaffold_assets()"
      ],
      "metadata": {
        "id": "8X29aIjGspSk"
      },
      "execution_count": null,
      "outputs": []
    },
    {
      "cell_type": "code",
      "source": [
        "!pip install responsibly`````"
      ],
      "metadata": {
        "colab": {
          "base_uri": "https://localhost:8080/",
          "height": 1000
        },
        "id": "nDXC7aXABB8V",
        "outputId": "8002d816-5675-416b-a879-136e03ed33f8"
      },
      "execution_count": 8,
      "outputs": [
        {
          "output_type": "stream",
          "name": "stdout",
          "text": [
            "Looking in indexes: https://pypi.org/simple, https://us-python.pkg.dev/colab-wheels/public/simple/\n",
            "Collecting responsibly\n",
            "  Downloading responsibly-0.1.3-py3-none-any.whl (28.2 MB)\n",
            "\u001b[K     |████████████████████████████████| 28.2 MB 52.9 MB/s \n",
            "\u001b[?25hRequirement already satisfied: mlxtend<0.17,>=0.13 in /usr/local/lib/python3.8/dist-packages (from responsibly) (0.14.0)\n",
            "Collecting gensim<3.8,>=3.7\n",
            "  Downloading gensim-3.7.3.tar.gz (23.4 MB)\n",
            "\u001b[K     |████████████████████████████████| 23.4 MB 1.5 MB/s \n",
            "\u001b[?25hRequirement already satisfied: six>=1.10 in /usr/local/lib/python3.8/dist-packages (from responsibly) (1.15.0)\n",
            "Requirement already satisfied: pandas>=0.23 in /usr/local/lib/python3.8/dist-packages (from responsibly) (1.3.5)\n",
            "Requirement already satisfied: click>=6.0 in /usr/local/lib/python3.8/dist-packages (from responsibly) (7.1.2)\n",
            "Requirement already satisfied: seaborn>=0.9 in /usr/local/lib/python3.8/dist-packages (from responsibly) (0.11.2)\n",
            "Collecting matplotlib<3,>=2.2\n",
            "  Downloading matplotlib-2.2.5.tar.gz (36.7 MB)\n",
            "\u001b[K     |████████████████████████████████| 36.7 MB 1.2 MB/s \n",
            "\u001b[?25hRequirement already satisfied: tabulate>=0.8 in /usr/local/lib/python3.8/dist-packages (from responsibly) (0.8.10)\n",
            "Requirement already satisfied: tqdm>=4.24 in /usr/local/lib/python3.8/dist-packages (from responsibly) (4.64.1)\n",
            "Requirement already satisfied: scipy>=1.1 in /usr/local/lib/python3.8/dist-packages (from responsibly) (1.7.3)\n",
            "Requirement already satisfied: numpy>=1.15 in /usr/local/lib/python3.8/dist-packages (from responsibly) (1.21.6)\n",
            "Requirement already satisfied: scikit-learn>=0.19 in /usr/local/lib/python3.8/dist-packages (from responsibly) (1.0.2)\n",
            "Requirement already satisfied: smart_open>=1.7.0 in /usr/local/lib/python3.8/dist-packages (from gensim<3.8,>=3.7->responsibly) (5.2.1)\n",
            "Requirement already satisfied: cycler>=0.10 in /usr/local/lib/python3.8/dist-packages (from matplotlib<3,>=2.2->responsibly) (0.11.0)\n",
            "Requirement already satisfied: pyparsing!=2.0.4,!=2.1.2,!=2.1.6,>=2.0.1 in /usr/local/lib/python3.8/dist-packages (from matplotlib<3,>=2.2->responsibly) (2.4.7)\n",
            "Requirement already satisfied: python-dateutil>=2.1 in /usr/local/lib/python3.8/dist-packages (from matplotlib<3,>=2.2->responsibly) (2.8.2)\n",
            "Requirement already satisfied: pytz in /usr/local/lib/python3.8/dist-packages (from matplotlib<3,>=2.2->responsibly) (2022.6)\n",
            "Requirement already satisfied: kiwisolver>=1.0.1 in /usr/local/lib/python3.8/dist-packages (from matplotlib<3,>=2.2->responsibly) (1.4.4)\n",
            "Requirement already satisfied: setuptools in /usr/local/lib/python3.8/dist-packages (from mlxtend<0.17,>=0.13->responsibly) (57.4.0)\n",
            "Requirement already satisfied: threadpoolctl>=2.0.0 in /usr/local/lib/python3.8/dist-packages (from scikit-learn>=0.19->responsibly) (3.1.0)\n",
            "Requirement already satisfied: joblib>=0.11 in /usr/local/lib/python3.8/dist-packages (from scikit-learn>=0.19->responsibly) (1.2.0)\n",
            "Building wheels for collected packages: gensim, matplotlib\n",
            "  Building wheel for gensim (setup.py) ... \u001b[?25l\u001b[?25hdone\n",
            "  Created wheel for gensim: filename=gensim-3.7.3-cp38-cp38-linux_x86_64.whl size=25861686 sha256=209245c101844c74c5efec6dd697a061c0dd571c430ed032cbb2878a22e91b07\n",
            "  Stored in directory: /root/.cache/pip/wheels/dd/a5/27/d48d7feb5a01ddba1a11f9be5cc84a2853862b353e71938dae\n",
            "  Building wheel for matplotlib (setup.py) ... \u001b[?25l\u001b[?25hdone\n",
            "  Created wheel for matplotlib: filename=matplotlib-2.2.5-cp38-cp38-linux_x86_64.whl size=10811632 sha256=ca4e0f283ff392dee8331c7963c336e284aecabb1a0754cf35f86fce92437fe3\n",
            "  Stored in directory: /root/.cache/pip/wheels/26/dc/65/d27080ab002cb70bcc99bae054a4ad6b6ae24e8e2b1c472d34\n",
            "Successfully built gensim matplotlib\n",
            "Installing collected packages: matplotlib, gensim, responsibly\n",
            "  Attempting uninstall: matplotlib\n",
            "    Found existing installation: matplotlib 3.2.2\n",
            "    Uninstalling matplotlib-3.2.2:\n",
            "      Successfully uninstalled matplotlib-3.2.2\n",
            "  Attempting uninstall: gensim\n",
            "    Found existing installation: gensim 3.6.0\n",
            "    Uninstalling gensim-3.6.0:\n",
            "      Successfully uninstalled gensim-3.6.0\n",
            "\u001b[31mERROR: pip's dependency resolver does not currently take into account all the packages that are installed. This behaviour is the source of the following dependency conflicts.\n",
            "verifyml 0.0.6 requires matplotlib>=3.2.0, but you have matplotlib 2.2.5 which is incompatible.\n",
            "plotnine 0.8.0 requires matplotlib>=3.1.1, but you have matplotlib 2.2.5 which is incompatible.\n",
            "mizani 0.7.3 requires matplotlib>=3.1.1, but you have matplotlib 2.2.5 which is incompatible.\n",
            "datascience 0.17.5 requires matplotlib>=3.0.0, but you have matplotlib 2.2.5 which is incompatible.\n",
            "arviz 0.12.1 requires matplotlib>=3.0, but you have matplotlib 2.2.5 which is incompatible.\u001b[0m\n",
            "Successfully installed gensim-3.7.3 matplotlib-2.2.5 responsibly-0.1.3\n"
          ]
        },
        {
          "output_type": "display_data",
          "data": {
            "application/vnd.colab-display-data+json": {
              "pip_warning": {
                "packages": [
                  "matplotlib",
                  "mpl_toolkits"
                ]
              }
            }
          },
          "metadata": {}
        }
      ]
    },
    {
      "cell_type": "code",
      "source": [
        "import numpy as np\n",
        "import pandas as pd\n",
        "from scipy import stats\n",
        "import matplotlib.pylab as plt\n",
        "import seaborn as sns\n",
        "\n",
        "from responsibly.dataset import COMPASDataset\n",
        "from responsibly.fairness.metrics import distplot_by"
      ],
      "metadata": {
        "id": "zRZeqK5iAwn3"
      },
      "execution_count": 1,
      "outputs": []
    },
    {
      "cell_type": "code",
      "source": [
        "compas_ds = COMPASDataset()\n",
        "df = compas_ds.df\n",
        "\n",
        "len(df)"
      ],
      "metadata": {
        "colab": {
          "base_uri": "https://localhost:8080/"
        },
        "id": "5FeLSEaqAxyw",
        "outputId": "d04a8b0b-a0e8-49d3-dbec-cb8bda5b4473"
      },
      "execution_count": 2,
      "outputs": [
        {
          "output_type": "execute_result",
          "data": {
            "text/plain": [
              "6172"
            ]
          },
          "metadata": {},
          "execution_count": 2
        }
      ]
    },
    {
      "cell_type": "code",
      "source": [
        "df['race'].value_counts()"
      ],
      "metadata": {
        "colab": {
          "base_uri": "https://localhost:8080/"
        },
        "id": "JaaTQaC9BuMy",
        "outputId": "0105bb8f-2dac-407e-d597-9aec7475d1a2"
      },
      "execution_count": 3,
      "outputs": [
        {
          "output_type": "execute_result",
          "data": {
            "text/plain": [
              "African-American    3175\n",
              "Caucasian           2103\n",
              "Hispanic             509\n",
              "Other                343\n",
              "Asian                 31\n",
              "Native American       11\n",
              "Name: race, dtype: int64"
            ]
          },
          "metadata": {},
          "execution_count": 3
        }
      ]
    },
    {
      "cell_type": "code",
      "source": [
        "(((df['race'].value_counts() / len(df))\n",
        "  * 100)\n",
        " .round(2))"
      ],
      "metadata": {
        "colab": {
          "base_uri": "https://localhost:8080/"
        },
        "id": "OzGUNGxsBylz",
        "outputId": "09fd667f-8aa2-47fa-8cfb-9a3a79c350c7"
      },
      "execution_count": 4,
      "outputs": [
        {
          "output_type": "execute_result",
          "data": {
            "text/plain": [
              "African-American    51.44\n",
              "Caucasian           34.07\n",
              "Hispanic             8.25\n",
              "Other                5.56\n",
              "Asian                0.50\n",
              "Native American      0.18\n",
              "Name: race, dtype: float64"
            ]
          },
          "metadata": {},
          "execution_count": 4
        }
      ]
    },
    {
      "cell_type": "code",
      "source": [
        "pd.crosstab(df['sex'], df['race'])"
      ],
      "metadata": {
        "colab": {
          "base_uri": "https://localhost:8080/",
          "height": 142
        },
        "id": "8zyfR2LaB4pK",
        "outputId": "0664a25e-9240-4ab3-e004-c8c2df4e0f73"
      },
      "execution_count": 5,
      "outputs": [
        {
          "output_type": "execute_result",
          "data": {
            "text/plain": [
              "race    African-American  Asian  Caucasian  Hispanic  Native American  Other\n",
              "sex                                                                         \n",
              "Female               549      2        482        82                2     58\n",
              "Male                2626     29       1621       427                9    285"
            ],
            "text/html": [
              "\n",
              "  <div id=\"df-3fad1167-ba28-499b-b18d-f094e8d5174a\">\n",
              "    <div class=\"colab-df-container\">\n",
              "      <div>\n",
              "<style scoped>\n",
              "    .dataframe tbody tr th:only-of-type {\n",
              "        vertical-align: middle;\n",
              "    }\n",
              "\n",
              "    .dataframe tbody tr th {\n",
              "        vertical-align: top;\n",
              "    }\n",
              "\n",
              "    .dataframe thead th {\n",
              "        text-align: right;\n",
              "    }\n",
              "</style>\n",
              "<table border=\"1\" class=\"dataframe\">\n",
              "  <thead>\n",
              "    <tr style=\"text-align: right;\">\n",
              "      <th>race</th>\n",
              "      <th>African-American</th>\n",
              "      <th>Asian</th>\n",
              "      <th>Caucasian</th>\n",
              "      <th>Hispanic</th>\n",
              "      <th>Native American</th>\n",
              "      <th>Other</th>\n",
              "    </tr>\n",
              "    <tr>\n",
              "      <th>sex</th>\n",
              "      <th></th>\n",
              "      <th></th>\n",
              "      <th></th>\n",
              "      <th></th>\n",
              "      <th></th>\n",
              "      <th></th>\n",
              "    </tr>\n",
              "  </thead>\n",
              "  <tbody>\n",
              "    <tr>\n",
              "      <th>Female</th>\n",
              "      <td>549</td>\n",
              "      <td>2</td>\n",
              "      <td>482</td>\n",
              "      <td>82</td>\n",
              "      <td>2</td>\n",
              "      <td>58</td>\n",
              "    </tr>\n",
              "    <tr>\n",
              "      <th>Male</th>\n",
              "      <td>2626</td>\n",
              "      <td>29</td>\n",
              "      <td>1621</td>\n",
              "      <td>427</td>\n",
              "      <td>9</td>\n",
              "      <td>285</td>\n",
              "    </tr>\n",
              "  </tbody>\n",
              "</table>\n",
              "</div>\n",
              "      <button class=\"colab-df-convert\" onclick=\"convertToInteractive('df-3fad1167-ba28-499b-b18d-f094e8d5174a')\"\n",
              "              title=\"Convert this dataframe to an interactive table.\"\n",
              "              style=\"display:none;\">\n",
              "        \n",
              "  <svg xmlns=\"http://www.w3.org/2000/svg\" height=\"24px\"viewBox=\"0 0 24 24\"\n",
              "       width=\"24px\">\n",
              "    <path d=\"M0 0h24v24H0V0z\" fill=\"none\"/>\n",
              "    <path d=\"M18.56 5.44l.94 2.06.94-2.06 2.06-.94-2.06-.94-.94-2.06-.94 2.06-2.06.94zm-11 1L8.5 8.5l.94-2.06 2.06-.94-2.06-.94L8.5 2.5l-.94 2.06-2.06.94zm10 10l.94 2.06.94-2.06 2.06-.94-2.06-.94-.94-2.06-.94 2.06-2.06.94z\"/><path d=\"M17.41 7.96l-1.37-1.37c-.4-.4-.92-.59-1.43-.59-.52 0-1.04.2-1.43.59L10.3 9.45l-7.72 7.72c-.78.78-.78 2.05 0 2.83L4 21.41c.39.39.9.59 1.41.59.51 0 1.02-.2 1.41-.59l7.78-7.78 2.81-2.81c.8-.78.8-2.07 0-2.86zM5.41 20L4 18.59l7.72-7.72 1.47 1.35L5.41 20z\"/>\n",
              "  </svg>\n",
              "      </button>\n",
              "      \n",
              "  <style>\n",
              "    .colab-df-container {\n",
              "      display:flex;\n",
              "      flex-wrap:wrap;\n",
              "      gap: 12px;\n",
              "    }\n",
              "\n",
              "    .colab-df-convert {\n",
              "      background-color: #E8F0FE;\n",
              "      border: none;\n",
              "      border-radius: 50%;\n",
              "      cursor: pointer;\n",
              "      display: none;\n",
              "      fill: #1967D2;\n",
              "      height: 32px;\n",
              "      padding: 0 0 0 0;\n",
              "      width: 32px;\n",
              "    }\n",
              "\n",
              "    .colab-df-convert:hover {\n",
              "      background-color: #E2EBFA;\n",
              "      box-shadow: 0px 1px 2px rgba(60, 64, 67, 0.3), 0px 1px 3px 1px rgba(60, 64, 67, 0.15);\n",
              "      fill: #174EA6;\n",
              "    }\n",
              "\n",
              "    [theme=dark] .colab-df-convert {\n",
              "      background-color: #3B4455;\n",
              "      fill: #D2E3FC;\n",
              "    }\n",
              "\n",
              "    [theme=dark] .colab-df-convert:hover {\n",
              "      background-color: #434B5C;\n",
              "      box-shadow: 0px 1px 3px 1px rgba(0, 0, 0, 0.15);\n",
              "      filter: drop-shadow(0px 1px 2px rgba(0, 0, 0, 0.3));\n",
              "      fill: #FFFFFF;\n",
              "    }\n",
              "  </style>\n",
              "\n",
              "      <script>\n",
              "        const buttonEl =\n",
              "          document.querySelector('#df-3fad1167-ba28-499b-b18d-f094e8d5174a button.colab-df-convert');\n",
              "        buttonEl.style.display =\n",
              "          google.colab.kernel.accessAllowed ? 'block' : 'none';\n",
              "\n",
              "        async function convertToInteractive(key) {\n",
              "          const element = document.querySelector('#df-3fad1167-ba28-499b-b18d-f094e8d5174a');\n",
              "          const dataTable =\n",
              "            await google.colab.kernel.invokeFunction('convertToInteractive',\n",
              "                                                     [key], {});\n",
              "          if (!dataTable) return;\n",
              "\n",
              "          const docLinkHtml = 'Like what you see? Visit the ' +\n",
              "            '<a target=\"_blank\" href=https://colab.research.google.com/notebooks/data_table.ipynb>data table notebook</a>'\n",
              "            + ' to learn more about interactive tables.';\n",
              "          element.innerHTML = '';\n",
              "          dataTable['output_type'] = 'display_data';\n",
              "          await google.colab.output.renderOutput(dataTable, element);\n",
              "          const docLink = document.createElement('div');\n",
              "          docLink.innerHTML = docLinkHtml;\n",
              "          element.appendChild(docLink);\n",
              "        }\n",
              "      </script>\n",
              "    </div>\n",
              "  </div>\n",
              "  "
            ]
          },
          "metadata": {},
          "execution_count": 5
        }
      ]
    },
    {
      "cell_type": "code",
      "source": [
        "import verifyml.model_card_toolkit as mctlib\n",
        "\n",
        "# Initialize the Model Card Toolkit with a path to store generate assets\n",
        "mct = mctlib.ModelCardToolkit(output_dir=\"model_card_output\", file_name=\"compas_model_card\")\n",
        "model_card = mct.scaffold_assets()"
      ],
      "metadata": {
        "id": "NrrQhYd9CFAi"
      },
      "execution_count": 6,
      "outputs": []
    },
    {
      "cell_type": "code",
      "source": [
        "# You can add free text fields\n",
        "model_card.model_details.name = 'Compass Dataset'\n"
      ],
      "metadata": {
        "id": "CqNTfE2wCR7m"
      },
      "execution_count": 9,
      "outputs": []
    },
    {
      "cell_type": "code",
      "source": [
        "\n",
        "\n",
        "import json\n",
        "from IPython import display\n",
        "import pandas as pd\n",
        "import numpy as np\n",
        "import category_encoders as ce\n",
        "from sklearn.ensemble import RandomForestClassifier\n",
        "from sklearn.model_selection import train_test_split\n",
        "from sklearn.metrics import ConfusionMatrixDisplay, RocCurveDisplay, precision_score, recall_score\n",
        "from sklearn.pipeline import Pipeline\n",
        "\n",
        "\n",
        "import verifyml.model_card_toolkit as mctlib\n",
        "from verifyml.model_card_toolkit import model_card_pb2, ModelCard\n",
        "from verifyml.model_tests.utils import plot_to_str\n",
        "from verifyml.model_tests.FEAT import (\n",
        "    SubgroupDisparity,\n",
        "    MinMaxMetricThreshold,\n",
        "    Perturbation,\n",
        "    SHAPFeatureImportance,\n",
        "    FeatureImportance,\n",
        "    DataShift\n",
        ")\n",
        "\n"
      ],
      "metadata": {
        "id": "eXKUWjkbE-Dv"
      },
      "execution_count": 12,
      "outputs": []
    },
    {
      "cell_type": "code",
      "source": [
        "#x = df.drop([\"two_year_recid\",\"dob\",\"compas_screening_date\",\"v_screening_date\",\"in_custody\",\"out_custody\",\"c_jail_in\",\"c_jail_out\",\"c_offense_date\",\"c_arrest_date\"\n",
        "#,\"r_offense_date\",\"r_jail_in\",\"r_jail_out\",\"vr_offense_date\",\"screening_date\",],axis=1)\n",
        "x=df[['age','race','sex']]\n",
        "y = df[\"two_year_recid\"]\n",
        "\n",
        "\n",
        "# Train-Test data Split\n",
        "x_train, x_test, y_train, y_test = train_test_split(\n",
        "    x, y, test_size=0.5, random_state=50\n",
        ")\n",
        "\n",
        "\n",
        "## Build ML model with protected attributes as model features\n",
        "\n",
        "# Apply one hot encoding to categorical columns (auto-detect object columns) and random forest model in the pipeline\n",
        "estimator = Pipeline(steps=[('onehot', ce.OneHotEncoder(use_cat_names=True)),\n",
        "                      ('classifier', RandomForestClassifier(n_estimators=2, max_features=\"sqrt\", random_state = 88))])\n",
        "\n",
        "\n",
        "# Fit, predict and compute performance metrics\n",
        "estimator.fit(x_train, y_train)\n",
        "\n",
        "output = x_test.copy() # x_test df with output columns, to be appended later\n",
        "y_pred = estimator.predict(x_test)\n",
        "y_probas = estimator.predict_proba(x_test)[::, 1]\n",
        "\n",
        "precision_train = round(precision_score(y_train, estimator.predict(x_train)),3)\n",
        "recall_train = round(recall_score(y_train, estimator.predict(x_train)), 3)\n",
        "precision_test = round(precision_score(y_test, y_pred),3)\n",
        "recall_test = round(recall_score(y_test, y_pred), 3)\n",
        "\n",
        "\n",
        "# Add output columns to this dataframe, to be used as a input for feat tests\n",
        "output[\"truth\"] = y_test\n",
        "output[\"prediction\"] = y_pred\n",
        "output[\"prediction_probas\"] = y_probas\n",
        "\n",
        "\n",
        "# Dataframe with categorical features encoded\n",
        "x_train_encoded = estimator[0].transform(x_train)\n",
        "x_test_encoded = estimator[0].transform(x_test)\n",
        "\n",
        "\n",
        "# Get feature importance values\n",
        "df_importance = pd.DataFrame(\n",
        "    {\"features\": x_test_encoded.columns, \"value\": estimator[-1].feature_importances_}\n",
        ")\n"
      ],
      "metadata": {
        "id": "_l9dZ7SBD8Q3"
      },
      "execution_count": 47,
      "outputs": []
    },
    {
      "cell_type": "code",
      "source": [
        "\n",
        "# Train set\n",
        "ConfusionMatrixDisplay.from_estimator(estimator, x_train, y_train)\n",
        "confusion_matrix_train = plot_to_str()\n",
        "RocCurveDisplay.from_estimator(estimator, x_train, y_train)\n",
        "roc_curve_train = plot_to_str()\n",
        "\n",
        "# Test set\n",
        "ConfusionMatrixDisplay.from_estimator(estimator, x_test, y_test)\n",
        "confusion_matrix_test = plot_to_str()\n",
        "RocCurveDisplay.from_estimator(estimator, x_test, y_test)\n",
        "roc_curve_test = plot_to_str()\n"
      ],
      "metadata": {
        "colab": {
          "base_uri": "https://localhost:8080/",
          "height": 1000
        },
        "id": "ZM2tcOR4U9kV",
        "outputId": "503dfa57-06f0-41b6-d15c-d349ff742826"
      },
      "execution_count": 50,
      "outputs": [
        {
          "output_type": "display_data",
          "data": {
            "text/plain": [
              "<Figure size 432x288 with 2 Axes>"
            ],
            "image/png": "[encoded data removed]"
          },
          "metadata": {
            "needs_background": "light"
          }
        },
        {
          "output_type": "display_data",
          "data": {
            "text/plain": [
              "<Figure size 432x288 with 1 Axes>"
            ],
            "image/png": "[encoded data removed]"
          },
          "metadata": {
            "needs_background": "light"
          }
        },
        {
          "output_type": "display_data",
          "data": {
            "text/plain": [
              "<Figure size 432x288 with 2 Axes>"
            ],
            "image/png": "[encoded data removed]"
          },
          "metadata": {
            "needs_background": "light"
          }
        },
        {
          "output_type": "display_data",
          "data": {
            "text/plain": [
              "<Figure size 432x288 with 1 Axes>"
            ],
            "image/png": "[encoded data removed]"
          },
          "metadata": {
            "needs_background": "light"
          }
        }
      ]
    },
    {
      "cell_type": "code",
      "source": [
        "\n",
        "from verifyml.model_tests.FEAT import SubgroupDisparity\n",
        "df['truth'] = df['two_year_recid']\n",
        "df['prediction'] = np.random.randint(2, size=6172)\n",
        "sgd_test = SubgroupDisparity(\n",
        "    attr='race',\n",
        "    metric='fpr',\n",
        "    method='ratio',\n",
        "    threshold=2,  \n",
        ")\n",
        "sgd_test.run(df)"
      ],
      "metadata": {
        "colab": {
          "base_uri": "https://localhost:8080/"
        },
        "id": "r_wFmMMrGK-G",
        "outputId": "407ca9da-0d88-4f4a-be8f-3fc17dcb270b"
      },
      "execution_count": 48,
      "outputs": [
        {
          "output_type": "execute_result",
          "data": {
            "text/plain": [
              "True"
            ]
          },
          "metadata": {},
          "execution_count": 48
        }
      ]
    },
    {
      "cell_type": "code",
      "source": [
        "\n",
        "sgd_test.plot()"
      ],
      "metadata": {
        "colab": {
          "base_uri": "https://localhost:8080/",
          "height": 390
        },
        "id": "xIjuAQD-Eu3x",
        "outputId": "2df74205-6f81-42de-c459-3113c78c77be"
      },
      "execution_count": 49,
      "outputs": [
        {
          "output_type": "display_data",
          "data": {
            "text/plain": [
              "<Figure size 864x432 with 1 Axes>"
            ],
            "image/png": "[encoded data removed]"
          },
          "metadata": {
            "needs_background": "light"
          }
        }
      ]
    },
    {
      "cell_type": "code",
      "source": [
        "from sklearn.metrics import confusion_matrix\n",
        "\n",
        "cm = confusion_matrix(df['truth'], df['prediction'])\n",
        "\n",
        "TN, FP, FN, TP = confusion_matrix(df['truth'], df['prediction']).ravel()\n",
        "\n",
        "print('True Positive(TP)  = ', TP)\n",
        "print('False Positive(FP) = ', FP)\n",
        "print('True Negative(TN)  = ', TN)\n",
        "print('False Negative(FN) = ', FN)"
      ],
      "metadata": {
        "colab": {
          "base_uri": "https://localhost:8080/"
        },
        "id": "bK1iEwImH4H-",
        "outputId": "04f6557c-d897-41b8-b4bd-290c1ffcfd81"
      },
      "execution_count": 20,
      "outputs": [
        {
          "output_type": "stream",
          "name": "stdout",
          "text": [
            "True Positive(TP)  =  1360\n",
            "False Positive(FP) =  1694\n",
            "True Negative(TN)  =  1669\n",
            "False Negative(FN) =  1449\n"
          ]
        }
      ]
    },
    {
      "cell_type": "code",
      "source": [
        "accuracy =  (TP + TN) / (TP + FP + TN + FN)\n",
        "\n",
        "print('Accuracy of the binary classifier = {:0.3f}'.format(accuracy))"
      ],
      "metadata": {
        "colab": {
          "base_uri": "https://localhost:8080/"
        },
        "id": "Ce1OTvM1Ir_Z",
        "outputId": "dc696da5-c755-4129-e2c2-6a548773708a"
      },
      "execution_count": 21,
      "outputs": [
        {
          "output_type": "stream",
          "name": "stdout",
          "text": [
            "Accuracy of the binary classifier = 0.491\n"
          ]
        }
      ]
    },
    {
      "cell_type": "code",
      "source": [
        "from verifyml.model_tests.FEAT import MinMaxMetricThreshold\n",
        "df['truth'] = df['two_year_recid']\n",
        "df['prediction'] = np.random.randint(2, size=6172)\n",
        "min_max_test = MinMaxMetricThreshold(\n",
        "    attr='sex',\n",
        "    metric='mae',\n",
        "    threshold=0.025\n",
        ")\n",
        "min_max_test.run(df)"
      ],
      "metadata": {
        "colab": {
          "base_uri": "https://localhost:8080/"
        },
        "id": "9u8KfH0SI0bu",
        "outputId": "96476002-1266-4deb-dc6f-c44806e0944c"
      },
      "execution_count": 38,
      "outputs": [
        {
          "output_type": "execute_result",
          "data": {
            "text/plain": [
              "False"
            ]
          },
          "metadata": {},
          "execution_count": 38
        }
      ]
    },
    {
      "cell_type": "code",
      "source": [
        "min_max_test.plot()"
      ],
      "metadata": {
        "colab": {
          "base_uri": "https://localhost:8080/",
          "height": 391
        },
        "id": "Xt8epruiJV2h",
        "outputId": "1104586b-176a-47ae-c2fa-fe97e240bcf2"
      },
      "execution_count": 39,
      "outputs": [
        {
          "output_type": "display_data",
          "data": {
            "text/plain": [
              "<Figure size 864x432 with 1 Axes>"
            ],
            "image/png": "[encoded data removed]"
          },
          "metadata": {
            "needs_background": "light"
          }
        }
      ]
    },
    {
      "cell_type": "code",
      "source": [],
      "metadata": {
        "id": "DQHNU6CjL2ro"
      },
      "execution_count": null,
      "outputs": []
    }
  ]
}