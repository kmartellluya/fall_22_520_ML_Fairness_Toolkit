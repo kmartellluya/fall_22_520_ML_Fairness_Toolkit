{
  "cells": [
    {
      "cell_type": "markdown",
      "metadata": {
        "id": "view-in-github"
      },
      "source": [
        "<a href=\"https://colab.research.google.com/github/kmartellluya/fall_22_520_ML_Fairness_Toolkit/blob/main/520_VerifyML.ipynb\" target=\"_parent\"><img src=\"https://colab.research.google.com/assets/colab-badge.svg\" alt=\"Open In Colab\"/></a>"
      ]
    },
    {
      "cell_type": "code",
      "execution_count": 13,
      "metadata": {
        "id": "HBjqW_gNskNm"
      },
      "outputs": [],
      "source": [
        "# Install VerifyML in the terminal from jupyter notebook\n",
        "!pip install verifyml"
      ]
    },
    {
      "cell_type": "code",
      "execution_count": 14,
      "metadata": {
        "id": "85ATWTSutlGY"
      },
      "outputs": [],
      "source": [
        "# Install tempeh in terminal from jupyter notebook\n",
        "!pip install tempeh\n",
        "from tempeh.configurations import datasets\n",
        "# Extracting data set from compas Datsets\n",
        "compas_dataset = datasets[\"compas\"]()"
      ]
    },
    {
      "cell_type": "code",
      "execution_count": 96,
      "metadata": {
        "colab": {
          "base_uri": "https://localhost:8080/"
        },
        "id": "NH5HC-rrvPDD",
        "outputId": "53c812a2-c531-4188-e373-414a1afa5c6e"
      },
      "outputs": [
        {
          "output_type": "stream",
          "name": "stdout",
          "text": [
            "Data set: X_train (1 sample):\n",
            "age                        25.000000\n",
            "juv_fel_count               0.000000\n",
            "juv_misd_count             -2.340451\n",
            "juv_other_count             1.000000\n",
            "priors_count              -15.010999\n",
            "age_cat_25 - 45             1.000000\n",
            "age_cat_Greater than 45     0.000000\n",
            "age_cat_Less than 25        0.000000\n",
            "c_charge_degree_F           0.000000\n",
            "c_charge_degree_M           1.000000\n",
            "Name: 0, dtype: float64 \n",
            "\n",
            "y_train (1 sample):\n",
            "h1.0\n"
          ]
        }
      ],
      "source": [
        "import pandas as pd\n",
        "# Split dataset - Train and test data\n",
        "X_train, X_test = compas_dataset.get_X(format=pd.DataFrame)\n",
        "y_train, y_test = compas_dataset.get_y(format=pd.Series)\n",
        "\n",
        "print(f\"Data set: X_train (1 sample):\\n{X_train.loc[0]} \\n\\ny_train (1 sample):\\nh{y_train[0]}\")"
      ]
    },
    {
      "cell_type": "code",
      "execution_count": 9,
      "metadata": {
        "id": "8X29aIjGspSk"
      },
      "outputs": [],
      "source": [
        "import verifyml.model_card_toolkit as mctlib\n",
        "\n",
        "# Initialize the Model Card Toolkit form VerifyML with a path \n",
        "# to store generate assets\n",
        "mct = mctlib.ModelCardToolkit(output_dir=\"model_card_output\", \n",
        "                              file_name=\"compas_model_card\")\n",
        "model_card = mct.scaffold_assets()"
      ]
    },
    {
      "cell_type": "code",
      "execution_count": 19,
      "metadata": {
        "id": "nDXC7aXABB8V"
      },
      "outputs": [],
      "source": [
        "!pip install responsibly"
      ]
    },
    {
      "cell_type": "code",
      "execution_count": 16,
      "metadata": {
        "id": "zRZeqK5iAwn3"
      },
      "outputs": [],
      "source": [
        "import numpy as np\n",
        "import pandas as pd\n",
        "from scipy import stats\n",
        "import matplotlib.pylab as plt\n",
        "import seaborn as sns\n",
        "\n",
        "from responsibly.dataset import COMPASDataset\n",
        "from responsibly.fairness.metrics import distplot_by"
      ]
    },
    {
      "cell_type": "code",
      "execution_count": 17,
      "metadata": {
        "colab": {
          "base_uri": "https://localhost:8080/"
        },
        "id": "5FeLSEaqAxyw",
        "outputId": "cedb18f9-db03-4260-b3a5-899bc1a768a0"
      },
      "outputs": [
        {
          "output_type": "execute_result",
          "data": {
            "text/plain": [
              "6172"
            ]
          },
          "metadata": {},
          "execution_count": 17
        }
      ],
      "source": [
        "compas_ds = COMPASDataset()\n",
        "df = compas_ds.df"
      ]
    },
    {
      "cell_type": "code",
      "execution_count": 20,
      "metadata": {
        "colab": {
          "base_uri": "https://localhost:8080/"
        },
        "id": "JaaTQaC9BuMy",
        "outputId": "1a24a4f4-93cc-48a1-ff80-addc9a7b2952"
      },
      "outputs": [
        {
          "output_type": "execute_result",
          "data": {
            "text/plain": [
              "African-American    3175\n",
              "Caucasian           2103\n",
              "Hispanic             509\n",
              "Other                343\n",
              "Asian                 31\n",
              "Native American       11\n",
              "Name: race, dtype: int64"
            ]
          },
          "metadata": {},
          "execution_count": 20
        }
      ],
      "source": [
        "df['race'].value_counts()"
      ]
    },
    {
      "cell_type": "code",
      "execution_count": 21,
      "metadata": {
        "colab": {
          "base_uri": "https://localhost:8080/"
        },
        "id": "OzGUNGxsBylz",
        "outputId": "cabf351b-2695-4886-bf3a-85bc047240ba"
      },
      "outputs": [
        {
          "output_type": "execute_result",
          "data": {
            "text/plain": [
              "African-American    51.44\n",
              "Caucasian           34.07\n",
              "Hispanic             8.25\n",
              "Other                5.56\n",
              "Asian                0.50\n",
              "Native American      0.18\n",
              "Name: race, dtype: float64"
            ]
          },
          "metadata": {},
          "execution_count": 21
        }
      ],
      "source": [
        "(((df['race'].value_counts() / len(df))\n",
        "  * 100)\n",
        " .round(2))"
      ]
    },
    {
      "cell_type": "code",
      "execution_count": 25,
      "metadata": {
        "colab": {
          "base_uri": "https://localhost:8080/",
          "height": 143
        },
        "id": "8zyfR2LaB4pK",
        "outputId": "b3dbefd1-c7fe-4072-deec-857768a99716"
      },
      "outputs": [
        {
          "output_type": "execute_result",
          "data": {
            "text/plain": [
              "race    African-American  Asian  Caucasian  Hispanic  Native American  Other\n",
              "sex                                                                         \n",
              "Female               549      2        482        82                2     58\n",
              "Male                2626     29       1621       427                9    285"
            ],
            "text/html": [
              "\n",
              "  <div id=\"df-88828cc5-b121-44ae-b649-fa79f53878dd\">\n",
              "    <div class=\"colab-df-container\">\n",
              "      <div>\n",
              "<style scoped>\n",
              "    .dataframe tbody tr th:only-of-type {\n",
              "        vertical-align: middle;\n",
              "    }\n",
              "\n",
              "    .dataframe tbody tr th {\n",
              "        vertical-align: top;\n",
              "    }\n",
              "\n",
              "    .dataframe thead th {\n",
              "        text-align: right;\n",
              "    }\n",
              "</style>\n",
              "<table border=\"1\" class=\"dataframe\">\n",
              "  <thead>\n",
              "    <tr style=\"text-align: right;\">\n",
              "      <th>race</th>\n",
              "      <th>African-American</th>\n",
              "      <th>Asian</th>\n",
              "      <th>Caucasian</th>\n",
              "      <th>Hispanic</th>\n",
              "      <th>Native American</th>\n",
              "      <th>Other</th>\n",
              "    </tr>\n",
              "    <tr>\n",
              "      <th>sex</th>\n",
              "      <th></th>\n",
              "      <th></th>\n",
              "      <th></th>\n",
              "      <th></th>\n",
              "      <th></th>\n",
              "      <th></th>\n",
              "    </tr>\n",
              "  </thead>\n",
              "  <tbody>\n",
              "    <tr>\n",
              "      <th>Female</th>\n",
              "      <td>549</td>\n",
              "      <td>2</td>\n",
              "      <td>482</td>\n",
              "      <td>82</td>\n",
              "      <td>2</td>\n",
              "      <td>58</td>\n",
              "    </tr>\n",
              "    <tr>\n",
              "      <th>Male</th>\n",
              "      <td>2626</td>\n",
              "      <td>29</td>\n",
              "      <td>1621</td>\n",
              "      <td>427</td>\n",
              "      <td>9</td>\n",
              "      <td>285</td>\n",
              "    </tr>\n",
              "  </tbody>\n",
              "</table>\n",
              "</div>\n",
              "      <button class=\"colab-df-convert\" onclick=\"convertToInteractive('df-88828cc5-b121-44ae-b649-fa79f53878dd')\"\n",
              "              title=\"Convert this dataframe to an interactive table.\"\n",
              "              style=\"display:none;\">\n",
              "        \n",
              "  <svg xmlns=\"http://www.w3.org/2000/svg\" height=\"24px\"viewBox=\"0 0 24 24\"\n",
              "       width=\"24px\">\n",
              "    <path d=\"M0 0h24v24H0V0z\" fill=\"none\"/>\n",
              "    <path d=\"M18.56 5.44l.94 2.06.94-2.06 2.06-.94-2.06-.94-.94-2.06-.94 2.06-2.06.94zm-11 1L8.5 8.5l.94-2.06 2.06-.94-2.06-.94L8.5 2.5l-.94 2.06-2.06.94zm10 10l.94 2.06.94-2.06 2.06-.94-2.06-.94-.94-2.06-.94 2.06-2.06.94z\"/><path d=\"M17.41 7.96l-1.37-1.37c-.4-.4-.92-.59-1.43-.59-.52 0-1.04.2-1.43.59L10.3 9.45l-7.72 7.72c-.78.78-.78 2.05 0 2.83L4 21.41c.39.39.9.59 1.41.59.51 0 1.02-.2 1.41-.59l7.78-7.78 2.81-2.81c.8-.78.8-2.07 0-2.86zM5.41 20L4 18.59l7.72-7.72 1.47 1.35L5.41 20z\"/>\n",
              "  </svg>\n",
              "      </button>\n",
              "      \n",
              "  <style>\n",
              "    .colab-df-container {\n",
              "      display:flex;\n",
              "      flex-wrap:wrap;\n",
              "      gap: 12px;\n",
              "    }\n",
              "\n",
              "    .colab-df-convert {\n",
              "      background-color: #E8F0FE;\n",
              "      border: none;\n",
              "      border-radius: 50%;\n",
              "      cursor: pointer;\n",
              "      display: none;\n",
              "      fill: #1967D2;\n",
              "      height: 32px;\n",
              "      padding: 0 0 0 0;\n",
              "      width: 32px;\n",
              "    }\n",
              "\n",
              "    .colab-df-convert:hover {\n",
              "      background-color: #E2EBFA;\n",
              "      box-shadow: 0px 1px 2px rgba(60, 64, 67, 0.3), 0px 1px 3px 1px rgba(60, 64, 67, 0.15);\n",
              "      fill: #174EA6;\n",
              "    }\n",
              "\n",
              "    [theme=dark] .colab-df-convert {\n",
              "      background-color: #3B4455;\n",
              "      fill: #D2E3FC;\n",
              "    }\n",
              "\n",
              "    [theme=dark] .colab-df-convert:hover {\n",
              "      background-color: #434B5C;\n",
              "      box-shadow: 0px 1px 3px 1px rgba(0, 0, 0, 0.15);\n",
              "      filter: drop-shadow(0px 1px 2px rgba(0, 0, 0, 0.3));\n",
              "      fill: #FFFFFF;\n",
              "    }\n",
              "  </style>\n",
              "\n",
              "      <script>\n",
              "        const buttonEl =\n",
              "          document.querySelector('#df-88828cc5-b121-44ae-b649-fa79f53878dd button.colab-df-convert');\n",
              "        buttonEl.style.display =\n",
              "          google.colab.kernel.accessAllowed ? 'block' : 'none';\n",
              "\n",
              "        async function convertToInteractive(key) {\n",
              "          const element = document.querySelector('#df-88828cc5-b121-44ae-b649-fa79f53878dd');\n",
              "          const dataTable =\n",
              "            await google.colab.kernel.invokeFunction('convertToInteractive',\n",
              "                                                     [key], {});\n",
              "          if (!dataTable) return;\n",
              "\n",
              "          const docLinkHtml = 'Like what you see? Visit the ' +\n",
              "            '<a target=\"_blank\" href=https://colab.research.google.com/notebooks/data_table.ipynb>data table notebook</a>'\n",
              "            + ' to learn more about interactive tables.';\n",
              "          element.innerHTML = '';\n",
              "          dataTable['output_type'] = 'display_data';\n",
              "          await google.colab.output.renderOutput(dataTable, element);\n",
              "          const docLink = document.createElement('div');\n",
              "          docLink.innerHTML = docLinkHtml;\n",
              "          element.appendChild(docLink);\n",
              "        }\n",
              "      </script>\n",
              "    </div>\n",
              "  </div>\n",
              "  "
            ]
          },
          "metadata": {},
          "execution_count": 25
        }
      ],
      "source": [
        "pd.crosstab(df['sex'], df['race'])"
      ]
    },
    {
      "cell_type": "code",
      "execution_count": 94,
      "metadata": {
        "id": "NrrQhYd9CFAi"
      },
      "outputs": [],
      "source": [
        "import verifyml.model_card_toolkit as mctlib\n",
        "\n",
        "# Initialize the Model Card Toolkit with a path to store generate assets\n",
        "mct = mctlib.ModelCardToolkit(output_dir=\"model_card_output\", \n",
        "                              file_name=\"compas_model_card\")\n",
        "model_card = mct.scaffold_assets()"
      ]
    },
    {
      "cell_type": "code",
      "execution_count": 27,
      "metadata": {
        "id": "CqNTfE2wCR7m"
      },
      "outputs": [],
      "source": [
        "# You can add free text fields\n",
        "model_card.model_details.name = 'Compass Dataset'\n"
      ]
    },
    {
      "cell_type": "code",
      "execution_count": 99,
      "metadata": {
        "id": "eXKUWjkbE-Dv"
      },
      "outputs": [],
      "source": [
        "\n",
        "\n",
        "import json\n",
        "from IPython import display\n",
        "import pandas as pd\n",
        "import numpy as np\n",
        "import category_encoders as ce\n",
        "from sklearn.ensemble import RandomForestClassifier\n",
        "from sklearn.model_selection import train_test_split\n",
        "from sklearn.metrics import ConfusionMatrixDisplay, RocCurveDisplay, precision_score, recall_score\n",
        "from sklearn.pipeline import Pipeline\n",
        "\n",
        "\n",
        "import verifyml.model_card_toolkit as mctlib\n",
        "from verifyml.model_card_toolkit import model_card_pb2, ModelCard\n",
        "from verifyml.model_tests.utils import plot_to_str\n",
        "from verifyml.model_tests.FEAT import (\n",
        "    SubgroupDisparity,\n",
        "    MinMaxMetricThreshold,\n",
        "    Perturbation,\n",
        "    SHAPFeatureImportance,\n",
        "    FeatureImportance,\n",
        "    DataShift\n",
        ")\n",
        "\n"
      ]
    },
    {
      "cell_type": "code",
      "execution_count": 110,
      "metadata": {
        "id": "_l9dZ7SBD8Q3"
      },
      "outputs": [],
      "source": [
        "x = df[[\n",
        "  \"sex\",\n",
        "  \"age\",\n",
        "  # \"age_cat\",\n",
        "  \"race\",\n",
        "  # \"juv_fel_count\",\n",
        "#   \"decile_score\",\n",
        "  \"juv_misd_count\",\n",
        "#   \"juv_other_count\",\n",
        "  \"priors_count\",\n",
        "#   \"days_b_screening_arrest\",\n",
        "#   \"c_case_number\",\n",
        "  \"c_days_from_compas\",\n",
        "  \"c_charge_degree\",\n",
        "#   \"c_charge_desc\",\n",
        "  \"is_recid\",\n",
        "#   \"r_case_number\",\n",
        "#   \"r_charge_degree\",\n",
        "  # \"r_days_from_arrest\", # Input contains NaN, infinity or a value too large for dtype('float32').\n",
        "#   \"r_charge_desc\",\n",
        "  # \"violent_recid\", # Input contains NaN, infinity or a value too large for dtype('float32').\n",
        "  \"is_violent_recid\",\n",
        "#   \"vr_case_number\",\n",
        "#   \"vr_charge_degree\",\n",
        "#   \"vr_charge_desc\",\n",
        "#   \"type_of_assessment\",\n",
        "  \"decile_score\",\n",
        "#   \"score_text\",\n",
        "#   \"v_type_of_assessment\",\n",
        "#   \"v_decile_score\",\n",
        "  \"v_score_text\",\n",
        "  # \"priors_count\", # cannot reindex from a duplicate axis\n",
        "  # \"event\",\n",
        "]]\n",
        "\n",
        "y = df[\"two_year_recid\"]\n",
        "\n",
        "\n",
        "# Train-Test data Split\n",
        "x_train, x_test, y_train, y_test = train_test_split(\n",
        "    x, y, test_size=0.5, random_state=50\n",
        ")\n",
        "\n",
        "\n",
        "# Build ML model with protected attributes as model features\n",
        "\n",
        "# Apply one hot encoding to categorical columns (auto-detect object columns) \n",
        "# and random forest model in the pipeline\n",
        "estimator = Pipeline(\n",
        "    steps=[('onehot', ce.OneHotEncoder(use_cat_names=True)),\n",
        "           ('classifier', RandomForestClassifier(n_estimators=2, \n",
        "                                                 max_features=\"sqrt\", \n",
        "                                                 random_state = 88)\n",
        "           )])\n",
        "\n",
        "\n",
        "# Fit, predict and compute performance metrics\n",
        "estimator.fit(x_train, y_train)\n",
        "\n",
        "output = x_test.copy() # x_test df with output columns, to be appended later\n",
        "y_pred = estimator.predict(x_test)\n",
        "y_probas = estimator.predict_proba(x_test)[::, 1]\n",
        "\n",
        "precision_train = round(precision_score(y_train, estimator.predict(x_train)),3)\n",
        "recall_train = round(recall_score(y_train, estimator.predict(x_train)), 3)\n",
        "precision_test = round(precision_score(y_test, y_pred),3)\n",
        "recall_test = round(recall_score(y_test, y_pred), 3)\n",
        "\n",
        "\n",
        "# Add output columns to this dataframe, to be used as a input for feat tests\n",
        "output[\"truth\"] = y_test\n",
        "output[\"prediction\"] = y_pred\n",
        "output[\"prediction_probas\"] = y_probas\n",
        "\n",
        "\n",
        "# Dataframe with categorical features encoded\n",
        "x_train_encoded = estimator[0].transform(x_train)\n",
        "x_test_encoded = estimator[0].transform(x_test)\n",
        "\n",
        "\n",
        "# Get feature importance values\n",
        "df_importance = pd.DataFrame(\n",
        "    {\"features\": x_test_encoded.columns, \n",
        "     \"value\": estimator[-1].feature_importances_}\n",
        ")\n"
      ]
    },
    {
      "cell_type": "code",
      "execution_count": 111,
      "metadata": {
        "colab": {
          "base_uri": "https://localhost:8080/",
          "height": 1000
        },
        "id": "ZM2tcOR4U9kV",
        "outputId": "4ff235a3-3061-4aa2-e7e4-423d69d5ec68"
      },
      "outputs": [
        {
          "output_type": "display_data",
          "data": {
            "text/plain": [
              "<Figure size 432x288 with 2 Axes>"
            ],
            "image/png": "[encoded data removed]"
          },
          "metadata": {
            "needs_background": "light"
          }
        },
        {
          "output_type": "display_data",
          "data": {
            "text/plain": [
              "<Figure size 432x288 with 1 Axes>"
            ],
            "image/png": "[encoded data removed]"
          },
          "metadata": {
            "needs_background": "light"
          }
        },
        {
          "output_type": "display_data",
          "data": {
            "text/plain": [
              "<Figure size 432x288 with 2 Axes>"
            ],
            "image/png": "[encoded data removed]"
          },
          "metadata": {
            "needs_background": "light"
          }
        },
        {
          "output_type": "display_data",
          "data": {
            "text/plain": [
              "<Figure size 432x288 with 1 Axes>"
            ],
            "image/png": "[encoded data removed]"
          },
          "metadata": {
            "needs_background": "light"
          }
        }
      ],
      "source": [
        "## Get ROC curves for both Train and test data set\n",
        "\n",
        "# Train set\n",
        "ConfusionMatrixDisplay.from_estimator(estimator, x_train, y_train)\n",
        "confusion_matrix_train = plot_to_str()\n",
        "RocCurveDisplay.from_estimator(estimator, x_train, y_train)\n",
        "roc_curve_train = plot_to_str()\n",
        "\n",
        "# Test set\n",
        "ConfusionMatrixDisplay.from_estimator(estimator, x_test, y_test)\n",
        "confusion_matrix_test = plot_to_str()\n",
        "RocCurveDisplay.from_estimator(estimator, x_test, y_test)\n",
        "roc_curve_test = plot_to_str()"
      ]
    },
    {
      "cell_type": "code",
      "source": [],
      "metadata": {
        "id": "QDoEgzZWe2rx"
      },
      "execution_count": 111,
      "outputs": []
    },
    {
      "cell_type": "code",
      "execution_count": 112,
      "metadata": {
        "colab": {
          "base_uri": "https://localhost:8080/"
        },
        "id": "r_wFmMMrGK-G",
        "outputId": "794fd424-d1f8-4b76-c21f-bfd36b55c4b9"
      },
      "outputs": [
        {
          "output_type": "execute_result",
          "data": {
            "text/plain": [
              "True"
            ]
          },
          "metadata": {},
          "execution_count": 112
        }
      ],
      "source": [
        "\n",
        "from verifyml.model_tests.FEAT import SubgroupDisparity\n",
        "df['truth'] = df['two_year_recid']\n",
        "df['prediction'] = np.random.randint(2, size=6172)\n",
        "sgd_test = SubgroupDisparity(\n",
        "    attr='race',\n",
        "    metric='fpr',\n",
        "    method='ratio',\n",
        "    threshold=2,  \n",
        ")\n",
        "sgd_test.run(df)"
      ]
    },
    {
      "cell_type": "code",
      "execution_count": 113,
      "metadata": {
        "colab": {
          "base_uri": "https://localhost:8080/",
          "height": 390
        },
        "id": "xIjuAQD-Eu3x",
        "outputId": "14faba11-78de-4bc1-9ec3-e0b9218117b3"
      },
      "outputs": [
        {
          "output_type": "display_data",
          "data": {
            "text/plain": [
              "<Figure size 864x432 with 1 Axes>"
            ],
            "image/png": "[encoded data removed]"
          },
          "metadata": {
            "needs_background": "light"
          }
        }
      ],
      "source": [
        "\n",
        "sgd_test.plot()"
      ]
    },
    {
      "cell_type": "code",
      "execution_count": 114,
      "metadata": {
        "colab": {
          "base_uri": "https://localhost:8080/"
        },
        "id": "bK1iEwImH4H-",
        "outputId": "4aaf7a62-d192-40c1-ddad-0b57c8f3c23d"
      },
      "outputs": [
        {
          "output_type": "stream",
          "name": "stdout",
          "text": [
            "True Positive(TP)  =  1405\n",
            "False Positive(FP) =  1669\n",
            "True Negative(TN)  =  1694\n",
            "False Negative(FN) =  1404\n"
          ]
        }
      ],
      "source": [
        "\n",
        "from sklearn.metrics import confusion_matrix\n",
        "\n",
        "cm = confusion_matrix(df['truth'], df['prediction'])\n",
        "\n",
        "TN, FP, FN, TP = confusion_matrix(df['truth'], df['prediction']).ravel()\n",
        "\n",
        "print('True Positive(TP)  = ', TP)\n",
        "print('False Positive(FP) = ', FP)\n",
        "print('True Negative(TN)  = ', TN)\n",
        "print('False Negative(FN) = ', FN)"
      ]
    },
    {
      "cell_type": "code",
      "execution_count": 115,
      "metadata": {
        "colab": {
          "base_uri": "https://localhost:8080/"
        },
        "id": "Ce1OTvM1Ir_Z",
        "outputId": "5f58f21c-fb10-45d9-da87-dfe0512c4402"
      },
      "outputs": [
        {
          "output_type": "stream",
          "name": "stdout",
          "text": [
            "Accuracy of the binary classifier = 0.502\n"
          ]
        }
      ],
      "source": [
        "accuracy =  (TP + TN) / (TP + FP + TN + FN)\n",
        "\n",
        "print('Accuracy of the binary classifier = {:0.3f}'.format(accuracy))"
      ]
    },
    {
      "cell_type": "code",
      "execution_count": 116,
      "metadata": {
        "colab": {
          "base_uri": "https://localhost:8080/"
        },
        "id": "9u8KfH0SI0bu",
        "outputId": "d818bae3-7918-4566-a6b3-f094ed1d7517"
      },
      "outputs": [
        {
          "output_type": "execute_result",
          "data": {
            "text/plain": [
              "False"
            ]
          },
          "metadata": {},
          "execution_count": 116
        }
      ],
      "source": [
        "from verifyml.model_tests.FEAT import MinMaxMetricThreshold\n",
        "df['truth'] = df['two_year_recid']\n",
        "df['prediction'] = np.random.randint(2, size=6172)\n",
        "min_max_test = MinMaxMetricThreshold(\n",
        "    attr='sex',\n",
        "    metric='mae',\n",
        "    threshold=0.025\n",
        ")\n",
        "min_max_test.run(df)"
      ]
    },
    {
      "cell_type": "code",
      "execution_count": 117,
      "metadata": {
        "colab": {
          "base_uri": "https://localhost:8080/",
          "height": 391
        },
        "id": "Xt8epruiJV2h",
        "outputId": "a5d2575a-898c-4c0d-893f-e99970f70070"
      },
      "outputs": [
        {
          "output_type": "display_data",
          "data": {
            "text/plain": [
              "<Figure size 864x432 with 1 Axes>"
            ],
            "image/png": "[encoded data removed]"
          },
          "metadata": {
            "needs_background": "light"
          }
        }
      ],
      "source": [
        "min_max_test.plot()"
      ]
    },
    {
      "cell_type": "code",
      "execution_count": 117,
      "metadata": {
        "id": "DQHNU6CjL2ro"
      },
      "outputs": [],
      "source": []
    }
  ],
  "metadata": {
    "colab": {
      "provenance": []
    },
    "kernelspec": {
      "display_name": "Python 3.9.7 64-bit ('3.9.7')",
      "language": "python",
      "name": "python3"
    },
    "language_info": {
      "codemirror_mode": {
        "name": "ipython",
        "version": 3
      },
      "file_extension": ".py",
      "mimetype": "text/x-python",
      "name": "python",
      "nbconvert_exporter": "python",
      "pygments_lexer": "ipython3",
      "version": "3.9.7"
    },
    "vscode": {
      "interpreter": {
        "hash": "b507da0f5c23ca30dbcd91f9ab2b2f2eebfea13319da84c2bbc6ba3237ffe70f"
      }
    }
  },
  "nbformat": 4,
  "nbformat_minor": 0
}